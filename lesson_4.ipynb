{
 "cells": [
  {
   "cell_type": "markdown",
   "metadata": {},
   "source": [
    "### Практическое задание к уроку 4\n",
    "#### Методичка 6"
   ]
  },
  {
   "cell_type": "markdown",
   "metadata": {},
   "source": [
    "__1.__ Решить систему уравнений методом Гаусса:\n",
    "\n",
    "$$\\begin{cases}\n",
    "x_{1}+x_{2}-x_{3}-2x_{4}=0, \\\\\n",
    "2x_{1}+x_{2}-x_{3}+x_{4}=-2, \\\\\n",
    "x_{1}+x_{2}-3x_{3}+x_{4}=4.\n",
    "\\end{cases}$$\n",
    "\n",
    "Т.к. количество неизвестных меньше коиев равнений, то система будет иметь бесконечное множество решений.  \n",
    "Записываю систему линейных уравнений в виде расширенной матрицы:\n",
    "$$\\begin{pmatrix}\n",
    "\\left.\\begin{matrix}\n",
    "1 & 1 & -1 & -2 \\\\\n",
    "2 & 1 & -1 & 1 \\\\\n",
    "1 & 1 & -3 & 1\n",
    "\\end{matrix}\\right|\n",
    "\\begin{matrix}\n",
    "0 \\\\\n",
    "-2 \\\\\n",
    "4\n",
    "\\end{matrix}\n",
    "\\end{pmatrix}$$\n",
    "\n",
    "Преобразую расширенную матрицу путем элементарных преобразований. Умножаю 1 строку на -2 и склаываю её с 2-й, умножаю 1 строку на -1 и складываю её с 3-й:\n",
    "$$\\begin{pmatrix}\n",
    "\\left.\\begin{matrix}\n",
    "1 & 1 & -1 & -2 \\\\\n",
    "0 & -1 & 1 & 5 \\\\\n",
    "0 & 0 & -2 & 3\n",
    "\\end{matrix}\\right|\n",
    "\\begin{matrix}\n",
    "0 \\\\\n",
    "-2 \\\\\n",
    "4\n",
    "\\end{matrix}\n",
    "\\end{pmatrix}$$\n",
    "\n",
    "Записываю получившуюся матрицу опять в виде системы:\n",
    "$$\\begin{cases}\n",
    "x_1+x_2-x_3-2x_4=0 \\\\\n",
    "~~~~-x_2+x_3+5x_4=-2 \\\\\n",
    "~~~~~~~~~~-2x_3+3x_4=4\n",
    "\\end{cases}$$\n",
    "\n",
    "Выражаю $x_3$ через $x_4$. После этого нахожу значения $x_2$ и $x_1$:  \n",
    "$$-2x_3=4-3x_4\\,\\,\\, \\rightarrow\\,\\,\\, x_3=1.5x_4-2$$\n",
    "$$-x_21.5x_4-2+5x_4=-2\\,\\,\\, \\rightarrow \\,\\,\\, x_2=6.5x_4$$\n",
    "$$x_1+6.5x_4-1.5x_4+2-2x_4=0\\,\\,\\,\\rightarrow\\,\\,\\, x_1+3x_4+2=0\\,\\,\\,\\rightarrow\\,\\,\\, x_1=-3x_4-2$$\n",
    "\n",
    "Подставляю получившиеся значения переменных в изначальную систему уравнений для проверки:  \n",
    "$$\\begin{cases}\n",
    "-3x_4-2+6.5x_4-1.5x_4+2-2x_4=0 \\\\\n",
    "-6x_4-4+6.5x_4-1.5+2+x_4=-2 \\\\\n",
    "-3x_4-2+6.5x_4-4.5x_4+6+x_4=4\n",
    "\\end{cases}\\,\\,\\,\\,\\, \\Rightarrow\\,\\,\\,\\,\\, \\begin{cases}\n",
    "0=0\\\\\n",
    "-2=-2\\\\\n",
    "4=4\n",
    "\\end{cases}$$\n",
    "__После подстановки получил тождества. Следовательно полученное общее решение - верное.__"
   ]
  },
  {
   "cell_type": "markdown",
   "metadata": {},
   "source": [
    "__2.__ Проверить на совместность и выяснить, сколько решений будет иметь система линейных уравнений:"
   ]
  },
  {
   "cell_type": "code",
   "execution_count": 1,
   "metadata": {},
   "outputs": [],
   "source": [
    "import numpy as np\n",
    "import scipy.linalg"
   ]
  },
  {
   "cell_type": "markdown",
   "metadata": {},
   "source": [
    "   а) $\\begin{cases}\n",
    "3x_{1}-x_{2}+x_{3}=4, \\\\\n",
    "2x_{1}-5x_{2}-3x_{3}=-17, \\\\\n",
    "x_{1}+x_{2}-x_{3}=0;\n",
    "\\end{cases}$  \n",
    "Т.к. $r(A)=r(A|B)$, то данная система уравнений совместна. А т.к. $r(A)=n$, то она имеет 1 решение."
   ]
  },
  {
   "cell_type": "code",
   "execution_count": 10,
   "metadata": {},
   "outputs": [
    {
     "name": "stdout",
     "output_type": "stream",
     "text": [
      "Ранг матрицы: 3\n",
      "Ранг расширенной матрицы: 3\n",
      "Корни системы уравнений: [1. 2. 3.]\n"
     ]
    }
   ],
   "source": [
    "a = np.array([[3, -1, 1], [2, -5, -3], [1, 1, -1]])\n",
    "a_ext = np.array([[3, -1, 1, 4], [2, -5, -3, -17], [1, 1, -1, 0]])\n",
    "b = np.array([4, -17, 0])\n",
    "print(f'Ранг матрицы: {np.linalg.matrix_rank(a)}\\nРанг расширенной матрицы: {np.linalg.matrix_rank(a_ext)}')\n",
    "print(f'Корни системы уравнений: {scipy.linalg.solve(a, b)}')"
   ]
  },
  {
   "cell_type": "markdown",
   "metadata": {},
   "source": [
    "   б) $\\begin{cases}\n",
    "2x_{1}-4x_{2}+6x_{3}=1, \\\\\n",
    "x_{1}-2x_{2}+3x_{3}=-2, \\\\\n",
    "3x_{1}-6x_{2}+9x_{3}=5;\n",
    "\\end{cases}$  \n",
    "Т.к. $r(A) \\neq r(A|B)$, то данная система уравнений не совместна, следоательно не имеет решений."
   ]
  },
  {
   "cell_type": "code",
   "execution_count": 11,
   "metadata": {},
   "outputs": [
    {
     "name": "stdout",
     "output_type": "stream",
     "text": [
      "Ранг матрицы: 1\n",
      "Ранг расширенной матрицы: 2\n"
     ]
    }
   ],
   "source": [
    "a = np.array([[2, -4, 6], [1, -2, 3], [3, -6, 9]])\n",
    "a_ext = np.array([[2, -4, 6, 1], [1, -2, 3, -2], [3, -6, 9, 9]])\n",
    "b = np.array([1, -2, 9])\n",
    "print(f'Ранг матрицы: {np.linalg.matrix_rank(a)}\\nРанг расширенной матрицы: {np.linalg.matrix_rank(a_ext)}')"
   ]
  },
  {
   "cell_type": "markdown",
   "metadata": {},
   "source": [
    "в) $\\begin{cases}\n",
    "x_{1}+2x_{2}+5x_{3}=4, \\\\\n",
    "3x_{1}+x_{2}-8x_{3}=-2. \n",
    "\\end{cases}$  \n",
    "Т.к. $r(A)=r(A|B)$, то данная система уравнений совместна. А т.к. $r(A)<n$, то она имеет бесконечное множество решений."
   ]
  },
  {
   "cell_type": "code",
   "execution_count": 14,
   "metadata": {},
   "outputs": [
    {
     "name": "stdout",
     "output_type": "stream",
     "text": [
      "Ранг матрицы: 2\n",
      "Ранг расширенной матрицы: 2\n"
     ]
    }
   ],
   "source": [
    "a = np.array([[1, 2, 5], [3, 1, -8]])\n",
    "a_ext = np.array([[1, 2, 5, 4], [3, 1, -8, -2]])\n",
    "b = np.array([4, -2])\n",
    "print(f'Ранг матрицы: {np.linalg.matrix_rank(a)}\\nРанг расширенной матрицы: {np.linalg.matrix_rank(a_ext)}')"
   ]
  },
  {
   "cell_type": "markdown",
   "metadata": {},
   "source": [
    "__3.__ Проверить на совместность и выяснить, сколько решений будет иметь система линейных уравнений, заданная расширенной матрицей\n",
    "\n",
    "$$\\tilde{A}=\\begin{pmatrix}\n",
    "\\left.\\begin{matrix}\n",
    "1 & 3 & -2 & 4\\\\ \n",
    "0 & 5 & 0 & 1\\\\ \n",
    "0 & 0 & 3 & 0\\\\ \n",
    "0 & 0 & 0 & 2\n",
    "\\end{matrix}\\right|\n",
    "\\begin{matrix}\n",
    "3\\\\ \n",
    "2\\\\\n",
    "4\\\\\n",
    "1\n",
    "\\end{matrix}\n",
    "\\end{pmatrix}.$$\n",
    "\n",
    "Ранг матрицы равен рангу расширенной матрицы $r(A)=r(A|B)=4$, следовательно даннаяматрицы совместна. Т,к. ранг матрицы равен числу линейных уравнений (чилу строк) $r(A)=n=4$, то она имеет 1 решение."
   ]
  },
  {
   "cell_type": "code",
   "execution_count": 16,
   "metadata": {},
   "outputs": [
    {
     "name": "stdout",
     "output_type": "stream",
     "text": [
      "Ранг матрицы: 4\n",
      "Ранг расширенной матрицы: 4\n",
      "Корни системы уравнений: [2.76666667 0.3        1.33333333 0.5       ]\n"
     ]
    }
   ],
   "source": [
    "a = np.array([[1, 3, -2, 4], [0, 5, 0, 1], [0, 0, 3, 0], [0, 0, 0, 2]])\n",
    "a_ext = np.array([[1, 3, -2, 4, 3], [0, 5, 0, 1, 2], [0, 0, 3, 0, 4], [0, 0, 0, 2, 1]])\n",
    "b = np.array([3, 2, 4, 1])\n",
    "print(f'Ранг матрицы: {np.linalg.matrix_rank(a)}\\nРанг расширенной матрицы: {np.linalg.matrix_rank(a_ext)}')\n",
    "print(f'Корни системы уравнений: {scipy.linalg.solve(a, b)}')"
   ]
  },
  {
   "cell_type": "code",
   "execution_count": null,
   "metadata": {},
   "outputs": [],
   "source": []
  }
 ],
 "metadata": {
  "kernelspec": {
   "display_name": "Python 3",
   "language": "python",
   "name": "python3"
  },
  "language_info": {
   "codemirror_mode": {
    "name": "ipython",
    "version": 3
   },
   "file_extension": ".py",
   "mimetype": "text/x-python",
   "name": "python",
   "nbconvert_exporter": "python",
   "pygments_lexer": "ipython3",
   "version": "3.8.5"
  }
 },
 "nbformat": 4,
 "nbformat_minor": 4
}
