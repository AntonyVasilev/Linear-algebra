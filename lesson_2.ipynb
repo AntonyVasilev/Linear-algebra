{
 "cells": [
  {
   "cell_type": "markdown",
   "metadata": {},
   "source": [
    "### Практическое задание к уроку 2\n",
    "#### Методичка 3"
   ]
  },
  {
   "cell_type": "markdown",
   "metadata": {},
   "source": [
    "__1.__ Установить, какие произведения матриц $AB$ и $BA$ определены, и найти размерности полученных матриц:\n",
    "\n",
    "   а) $A$ — матрица $4\\times 2$, $B$ — матрица $4\\times 2$;  \n",
    "   В данном случае произведения матриц $AB$ и $BA$ не определены:  \n",
    "       - в случае $AB$ - количество столбцов матрицы $A=2$, а количество строк матрицы $B=4$  \n",
    "       - в случае $BA$ - количество столбцов матрицы $B=2$, а количество строк матрицы $A=4$  \n",
    "     \n",
    "   б) $A$ — матрица $2\\times 5$, $B$ — матрица $5\\times 3$;  \n",
    "   Определено только произведение матриц $AB$. Размерность полученной матрицы будет равна $2 \\times 3$\n",
    "    \n",
    "   в) $A$ — матрица $8\\times 3$, $B$ — матрица $3\\times 8$;  \n",
    "   Определены оба произведения $AB$ и $BA$. Размерности полученных матриц будут равны $AB: 8 \\times 8$ и $BA: 3 \\times 3$, т.е крадратные матрицы 8 и 3 порядков соответственно.  \n",
    "    \n",
    "   г) $A$ — квадратная матрица $4\\times 4$, $B$ — квадратная матрица $4\\times 4$.  \n",
    "   Определены оба произведения $AB$ и $BA$. Получится 2 квадратные матрицы 4 порядка."
   ]
  },
  {
   "cell_type": "markdown",
   "metadata": {},
   "source": [
    "__2.__ Найти сумму и произведение матриц \n",
    "$A=\\begin{pmatrix}\n",
    "1 & -2\\\\ \n",
    "3 & 0\n",
    "\\end{pmatrix}$ и $B=\\begin{pmatrix}\n",
    "4 & -1\\\\ \n",
    "0 & 5\n",
    "\\end{pmatrix}.$\n",
    "\n",
    "$$A+B=\\begin{pmatrix}\n",
    "5 & -3 \\\\\n",
    "3 & 5\n",
    "\\end{pmatrix}$$\n",
    "\n",
    "$$A\\cdot B=\\begin{pmatrix}\n",
    "1\\cdot 4+(-2)\\cdot 0 & 1\\cdot (-1)+(-2)\\cdot 5 \\\\\n",
    "3\\cdot 4+0\\cdot 0 & 3\\cdot (-1)+0\\cdot 5\n",
    "\\end{pmatrix}=\\begin{pmatrix}\n",
    "4 & -11 \\\\\n",
    "12 & -3\n",
    "\\end{pmatrix}$$"
   ]
  },
  {
   "cell_type": "code",
   "execution_count": 1,
   "metadata": {},
   "outputs": [],
   "source": [
    "import numpy as np"
   ]
  },
  {
   "cell_type": "code",
   "execution_count": 2,
   "metadata": {},
   "outputs": [
    {
     "name": "stdout",
     "output_type": "stream",
     "text": [
      "Матрица A:\n",
      "[[ 1 -2]\n",
      " [ 3  0]]\n",
      "Матрица B:\n",
      "[[ 4 -1]\n",
      " [ 0  5]]\n"
     ]
    }
   ],
   "source": [
    "A = np.array([[1, -2], [3, 0]])\n",
    "B = np.array([[4, -1], [0, 5]])\n",
    "print(f'Матрица A:\\n{A}')\n",
    "print(f'Матрица B:\\n{B}')"
   ]
  },
  {
   "cell_type": "code",
   "execution_count": 3,
   "metadata": {},
   "outputs": [
    {
     "name": "stdout",
     "output_type": "stream",
     "text": [
      "A+B:\n",
      "[[ 5 -3]\n",
      " [ 3  5]]\n",
      "A*B:\n",
      "[[  4 -11]\n",
      " [ 12  -3]]\n"
     ]
    }
   ],
   "source": [
    "print(f'A+B:\\n{A+B}')\n",
    "print(f'A*B:\\n{np.dot(A, B)}')"
   ]
  },
  {
   "cell_type": "markdown",
   "metadata": {},
   "source": [
    "__3.__ Из закономерностей сложения и умножения матриц на число можно сделать вывод, что матрицы одного размера образуют линейное пространство. Вычислить линейную комбинацию $3A-2B+4C$ для матриц $A=\\begin{pmatrix}\n",
    "1 & 7\\\\ \n",
    "3 & -6\n",
    "\\end{pmatrix}$, $B=\\begin{pmatrix}\n",
    "0 & 5\\\\ \n",
    "2 & -1\n",
    "\\end{pmatrix}$, $C=\\begin{pmatrix}\n",
    "2 & -4\\\\ \n",
    "1 & 1\n",
    "\\end{pmatrix}.$\n",
    "\n",
    "$$3A=\\begin{pmatrix}\n",
    "3 & 21 \\\\\n",
    "9 & -18\n",
    "\\end{pmatrix}\\,\\,\\,\n",
    "-2B=\\begin{pmatrix}\n",
    "0 & -10 \\\\\n",
    "-4 & 2\n",
    "\\end{pmatrix}\\,\\,\\,\n",
    "4C=\\begin{pmatrix}\n",
    "8 & -16 \\\\\n",
    "4 & 4\n",
    "\\end{pmatrix}$$\n",
    "\n",
    "$$3A-2B+4C=\\begin{pmatrix}\n",
    "11 & -5 \\\\\n",
    "9 & -12\n",
    "\\end{pmatrix}$$"
   ]
  },
  {
   "cell_type": "code",
   "execution_count": 4,
   "metadata": {},
   "outputs": [
    {
     "name": "stdout",
     "output_type": "stream",
     "text": [
      "Матрица A:\n",
      "[[ 1  7]\n",
      " [ 3 -6]]\n",
      "Матрица B:\n",
      "[[ 0  5]\n",
      " [ 2 -1]]\n",
      "Матрица C:\n",
      "[[ 2 -4]\n",
      " [ 1  1]]\n"
     ]
    }
   ],
   "source": [
    "A = np.array([[1, 7], [3, -6]])\n",
    "B = np.array([[0, 5], [2, -1]])\n",
    "C = np.array([[2, -4], [1, 1]])\n",
    "print(f'Матрица A:\\n{A}')\n",
    "print(f'Матрица B:\\n{B}')\n",
    "print(f'Матрица C:\\n{C}')"
   ]
  },
  {
   "cell_type": "code",
   "execution_count": 5,
   "metadata": {},
   "outputs": [
    {
     "name": "stdout",
     "output_type": "stream",
     "text": [
      "3A-2B+4C:\n",
      "[[ 11  -5]\n",
      " [  9 -12]]\n"
     ]
    }
   ],
   "source": [
    "print(f'3A-2B+4C:\\n{3*A-2*B+4*C}')"
   ]
  },
  {
   "cell_type": "markdown",
   "metadata": {},
   "source": [
    "__4.__ Дана матрица $A=\\begin{pmatrix}\n",
    "4 & 1\\\\ \n",
    "5 & -2\\\\ \n",
    "2 & 3\n",
    "\\end{pmatrix}$.\n",
    "Вычислить $AA^{T}$ и $A^{T}A$.  \n",
    "\n",
    "$$A^T=\\begin{pmatrix}\n",
    "4 & 5 & 2 \\\\\n",
    "1 & -2 & 3\n",
    "\\end{pmatrix}$$\n",
    "\n",
    "$$A\\cdot A^T=\\begin{pmatrix}\n",
    "4\\cdot 4+1\\cdot 1 & 4\\cdot 5+1\\cdot(-2) & 4\\cdot 2+1\\cdot 3 \\\\\n",
    "5\\cdot4+(-2)\\cdot 1 & 5\\cdot 5+(-2)\\cdot(-2) & 5\\cdot 2+(-2)\\cdot 3 \\\\\n",
    "2\\cdot 4+3\\cdot1 & 2\\cdot 5+3\\cdot(-2) & 2\\cdot 2+3\\cdot 3\n",
    "\\end{pmatrix}=\\begin{pmatrix}\n",
    "17 & 18 & 11 \\\\\n",
    "18 & 29 & 4 \\\\\n",
    "11 & 4 & 13\n",
    "\\end{pmatrix}$$\n",
    "\n",
    "$$A^T\\cdot A=\\begin{pmatrix}=\n",
    "4\\cdot 4+5\\cdot 5+2\\cdot 2 & 4\\cdot 1+5\\cdot (-2)+2\\cdot 3 \\\\\n",
    "1\\cdot 4+(-2)\\cdot 5+3\\cdot 2 & 1\\cdot 1+(-2)\\cdot(-2)+3\\cdot 3\n",
    "\\end{pmatrix}=\\begin{pmatrix}\n",
    "45 & 0 \\\\\n",
    "0 & 14\n",
    "\\end{pmatrix}$$"
   ]
  },
  {
   "cell_type": "code",
   "execution_count": 6,
   "metadata": {},
   "outputs": [
    {
     "name": "stdout",
     "output_type": "stream",
     "text": [
      "Матрица A:\n",
      "[[ 4  1]\n",
      " [ 5 -2]\n",
      " [ 2  3]]\n",
      "Транспонированная матрица A:\n",
      "[[ 4  5  2]\n",
      " [ 1 -2  3]]\n"
     ]
    }
   ],
   "source": [
    "a = np.array([[4, 1], [5, -2], [2, 3]])\n",
    "print(f'Матрица A:\\n{a}')\n",
    "print(f'Транспонированная матрица A:\\n{a.T}')"
   ]
  },
  {
   "cell_type": "code",
   "execution_count": 7,
   "metadata": {},
   "outputs": [
    {
     "name": "stdout",
     "output_type": "stream",
     "text": [
      "A*A^T:\n",
      "[[17 18 11]\n",
      " [18 29  4]\n",
      " [11  4 13]]\n",
      "A^T*A:\n",
      "[[45  0]\n",
      " [ 0 14]]\n"
     ]
    }
   ],
   "source": [
    "print(f'A*A^T:\\n{np.dot(a, a.T)}')\n",
    "print(f'A^T*A:\\n{np.dot(a.T, a)}')"
   ]
  },
  {
   "cell_type": "markdown",
   "metadata": {},
   "source": [
    "__5*.__ Написать на Python функцию для перемножения двух произвольных матриц, не используя NumPy."
   ]
  },
  {
   "cell_type": "code",
   "execution_count": 8,
   "metadata": {},
   "outputs": [],
   "source": [
    "# Вариант 1. Перемножение двух произвольных матриц используя numpy array\n",
    "def matrix_multiply1(a, b):\n",
    "    assert a.shape[1] == b.shape[0], \"A's columns count isn't equals to B's rows count!\"\n",
    "    n = a.shape[0]\n",
    "    b_transposed = b.T\n",
    "    c = np.zeros([n, n])\n",
    "    for i in range(n):\n",
    "        for j in range(n):\n",
    "            c[i, j] = (a[i] * b_transposed[j]).sum()\n",
    "    return c"
   ]
  },
  {
   "cell_type": "code",
   "execution_count": 9,
   "metadata": {},
   "outputs": [
    {
     "name": "stdout",
     "output_type": "stream",
     "text": [
      "Матрица A:\n",
      "[[ 1  0]\n",
      " [ 2  1]\n",
      " [10  5]]\n",
      "Матрица B:\n",
      "[[2 0 0]\n",
      " [0 0 1]]\n",
      "Матрица A*B:\n",
      "[[ 2.  0.  0.]\n",
      " [ 4.  0.  1.]\n",
      " [20.  0.  5.]]\n"
     ]
    }
   ],
   "source": [
    "A_1 = np.array([[1, 0], [2, 1], [10, 5]])\n",
    "B_1 = np.array([[2, 0, 0], [0, 0, 1]])\n",
    "C_1 = matrix_multiply1(A_1, B_1)\n",
    "print(f'Матрица A:\\n{A_1}')\n",
    "print(f'Матрица B:\\n{B_1}')\n",
    "print(f'Матрица A*B:\\n{C_1}')"
   ]
  },
  {
   "cell_type": "code",
   "execution_count": 10,
   "metadata": {},
   "outputs": [],
   "source": [
    "# Вариант 2. Перемножение двух произвольных матриц полностью без использования numpy\n",
    "def matrix_multiply2(a, b):\n",
    "    a_shape = [len(A), len(A[0])]\n",
    "    b_shape = [len(B), len(B[0])]\n",
    "\n",
    "    assert a_shape[1] == b_shape[0], \"A's columns count isn't equals to B's rows count!\"\n",
    "    \n",
    "    n = a_shape[0]\n",
    "    \n",
    "    b_t = [[0 for _ in range(b_shape[0])] for _ in range(b_shape[1])]\n",
    "    for j in range(b_shape[1]):\n",
    "        for i in range(b_shape[0]):\n",
    "            b_t[j][i] = B[i][j]\n",
    "    \n",
    "    c = [[0 for _ in range(n)] for _ in range(n)]\n",
    "    for i in range(n):\n",
    "        for j in range(n):\n",
    "            c[i][j] = A[i][0] * b_t[j][0] + A[i][1] * b_t[j][1]\n",
    "    return c"
   ]
  },
  {
   "cell_type": "code",
   "execution_count": 11,
   "metadata": {},
   "outputs": [
    {
     "name": "stdout",
     "output_type": "stream",
     "text": [
      "Матрица A:\n",
      "[1, 0]\n",
      "[2, 1]\n",
      "[10, 5]\n",
      "Матрица B:\n",
      "[2, 0, 0]\n",
      "[0, 0, 1]\n",
      "Матрица A*B:\n",
      "[14, -2]\n",
      "[-12, 21]\n"
     ]
    }
   ],
   "source": [
    "A_2 = [[1, 0], [2, 1], [10, 5]]\n",
    "B_2 = [[2, 0, 0], [0, 0, 1]]\n",
    "C_2 = matrix_multiply2(A, B)\n",
    "print('Матрица A:', *A_2, sep='\\n')\n",
    "print('Матрица B:', *B_2, sep='\\n')\n",
    "print('Матрица A*B:', *C_2, sep='\\n')"
   ]
  },
  {
   "cell_type": "markdown",
   "metadata": {},
   "source": [
    "#### Методичка 4"
   ]
  },
  {
   "cell_type": "markdown",
   "metadata": {},
   "source": [
    "__1.__ Вычислить определитель:\n",
    "\n",
    "   a)\n",
    "\n",
    "$$\\begin{vmatrix}\n",
    "sinx & -cosx\\\\ \n",
    "cosx & sinx\n",
    "\\end{vmatrix}=\\sin^2 x+cos^2 x=1$$\n",
    "\n",
    "   б)\n",
    "    \n",
    "$$\\begin{vmatrix}\n",
    "4 & 2 & 3\\\\ \n",
    "0 & 5 & 1\\\\ \n",
    "0 & 0 & 9\n",
    "\\end{vmatrix}=4 \\cdot 5 \\cdot 9=180$$\n",
    "Определитель треугольной матрицы равен произведению элементов ее главной диагонали.\n",
    "    \n",
    "   в)\n",
    "\n",
    "$$\\begin{vmatrix}\n",
    "1 & 2 & 3\\\\ \n",
    "4 & 5 & 6\\\\ \n",
    "7 & 8 & 9\n",
    "\\end{vmatrix}=45+84+96-105-72-48=0$$"
   ]
  },
  {
   "cell_type": "code",
   "execution_count": 12,
   "metadata": {},
   "outputs": [
    {
     "name": "stdout",
     "output_type": "stream",
     "text": [
      "Определитель матрицы A: 180.0\n"
     ]
    }
   ],
   "source": [
    "a = np.array([[4, 2, 3], [0, 5, 1], [0, 0, 9]])\n",
    "print(f'Определитель матрицы A: {np.linalg.det(a)}')"
   ]
  },
  {
   "cell_type": "code",
   "execution_count": 13,
   "metadata": {},
   "outputs": [
    {
     "name": "stdout",
     "output_type": "stream",
     "text": [
      "Определитель матрицы B: -0.0\n"
     ]
    }
   ],
   "source": [
    "b = np.array([[1, 2, 3], [4, 5, 6], [7, 8, 9]])\n",
    "print(f'Определитель матрицы B: {np.linalg.det(b):.1f}')"
   ]
  },
  {
   "cell_type": "markdown",
   "metadata": {},
   "source": [
    "__2.__ Определитель матрицы $A$ равен $4$. Найти:\n",
    "\n",
    "   а) $det(A^{2})=det(A)\\cdot det(A)=4*4=16$, т.к возведение в квадрат - это по сути произведение матрицы саму на себя, то по свойству определятеля для квадратных матриц одинакого размера $det(AB)=det(A)\\cdot det(B)$\n",
    "    \n",
    "   б) $det(A^{T})=4$, т.к. определитель транспонированной матрицы равен определителю исходной;\n",
    "    \n",
    "   в) $det(2A)=4\\cdot 2^n$, где $n$ - это порядок матрицы. По свойству \"Умножение строки или столбца матрицы на число $\\lambda$ приведет к умножению определителя матрицы на то же число\" получается, что мы умножаем каждую строку/столбец на 2 $n$ раз."
   ]
  },
  {
   "cell_type": "markdown",
   "metadata": {},
   "source": [
    "__3.__  Доказать, что матрица\n",
    "\n",
    "$$\\begin{pmatrix}\n",
    "-2 & 7 & -3\\\\ \n",
    "4 & -14 & 6\\\\ \n",
    "-3 & 7 & 13\n",
    "\\end{pmatrix}$$\n",
    "вырожденная.\n",
    "\n",
    "Для этого найду ее определитель:  \n",
    "$$\\begin{vmatrix}\n",
    "-2 & 7 & -3\\\\ \n",
    "4 & -14 & 6\\\\ \n",
    "-3 & 7 & 13\n",
    "\\end{vmatrix}=364-126-84+126-364+84=0$$\n",
    "Т.к определитель матрицы равен нулю, то это значит, что данная матрица вырожденная."
   ]
  },
  {
   "cell_type": "code",
   "execution_count": 14,
   "metadata": {},
   "outputs": [
    {
     "name": "stdout",
     "output_type": "stream",
     "text": [
      "Определитель матрицы A: 0.0\n"
     ]
    }
   ],
   "source": [
    "A = np.array([[-2, 7, -3], [4, -14, 6], [-3, 7, 13]])\n",
    "print(f'Определитель матрицы A: {np.linalg.det(A)}')"
   ]
  },
  {
   "cell_type": "markdown",
   "metadata": {},
   "source": [
    "__4.__ Найти ранг матрицы:\n",
    "\n",
    "   а) $\\begin{pmatrix}\n",
    "1 & 2 & 3\\\\ \n",
    "1 & 1 & 1\\\\ \n",
    "2 & 3 & 4\n",
    "\\end{pmatrix}$\n",
    "Строка 3 является суммой строк 1 и 2. Следовательно отбрасываю 3 строку.\n",
    "$$\\begin{pmatrix}\n",
    "1 & 2 & 3\\\\ \n",
    "1 & 1 & 1\n",
    "\\end{pmatrix}$$\n",
    "Вычту из первой строки вторую.\n",
    "$$\\begin{pmatrix}\n",
    "0 & 1 & 2\\\\ \n",
    "1 & 1 & 1\n",
    "\\end{pmatrix}$$\n",
    "Больше преобразований произвести не могу, следовательно ранг данной матрицы равен 2.\n",
    "\n",
    "   б) $\\begin{pmatrix}\n",
    "0 & 0 & 2 & 1\\\\ \n",
    "0 & 0 & 2 & 2\\\\ \n",
    "0 & 0 & 4 & 3\\\\ \n",
    "2 & 3 & 5 & 6\n",
    "\\end{pmatrix}$\n",
    "Вычитаю из второй строки первую, а из третьей - первую, умноженную на два.\n",
    "$$\\begin{pmatrix}\n",
    "0 & 0 & 2 & 1\\\\ \n",
    "0 & 0 & 0 & 1\\\\ \n",
    "0 & 0 & 0 & 1\\\\ \n",
    "2 & 3 & 5 & 6\n",
    "\\end{pmatrix}$$\n",
    "Меняю местами первую и последнюю строки, а потом еще первую и четвертую.\n",
    "$$\\begin{pmatrix}\n",
    "2 & 3 & 5 & 6\\\\\n",
    "0 & 0 & 2 & 1\\\\ \n",
    "0 & 0 & 0 & 1\\\\ \n",
    "0 & 0 & 0 & 1\n",
    "\\end{pmatrix}$$\n",
    "Вычитаю из четвертой строки третью и выбрасываю получившуюся нулевую строку.\n",
    "$$\\begin{pmatrix}\n",
    "2 & 3 & 5 & 6\\\\\n",
    "0 & 0 & 2 & 1\\\\ \n",
    "0 & 0 & 0 & 1\n",
    "\\end{pmatrix}$$\n",
    "Больше преобразований произвести не могу, следовательно ранг данной матрицы равен 3."
   ]
  },
  {
   "cell_type": "code",
   "execution_count": 15,
   "metadata": {},
   "outputs": [
    {
     "name": "stdout",
     "output_type": "stream",
     "text": [
      "Ранг матрицы A: 2\n"
     ]
    }
   ],
   "source": [
    "A = np.array([[1, 2, 3], [1, 1, 1], [2, 3, 4]])\n",
    "print(f'Ранг матрицы A: {np.linalg.matrix_rank(A)}')"
   ]
  },
  {
   "cell_type": "code",
   "execution_count": 16,
   "metadata": {},
   "outputs": [
    {
     "name": "stdout",
     "output_type": "stream",
     "text": [
      "Ранг матрицы B: 3\n"
     ]
    }
   ],
   "source": [
    "B = np.array([[0, 0, 2, 1], [0, 0, 2, 2], [0, 0, 4, 3], [2, 3, 5, 6]])\n",
    "print(f'Ранг матрицы B: {np.linalg.matrix_rank(B)}')"
   ]
  },
  {
   "cell_type": "code",
   "execution_count": null,
   "metadata": {},
   "outputs": [],
   "source": []
  }
 ],
 "metadata": {
  "kernelspec": {
   "display_name": "Python 3",
   "language": "python",
   "name": "python3"
  },
  "language_info": {
   "codemirror_mode": {
    "name": "ipython",
    "version": 3
   },
   "file_extension": ".py",
   "mimetype": "text/x-python",
   "name": "python",
   "nbconvert_exporter": "python",
   "pygments_lexer": "ipython3",
   "version": "3.8.5"
  }
 },
 "nbformat": 4,
 "nbformat_minor": 4
}
