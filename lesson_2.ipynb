{
 "cells": [
  {
   "cell_type": "markdown",
   "metadata": {},
   "source": [
    "### Практическое задание к уроку 2\n",
    "#### Методичка 3"
   ]
  },
  {
   "cell_type": "markdown",
   "metadata": {},
   "source": [
    "__1.__ Установить, какие произведения матриц $AB$ и $BA$ определены, и найти размерности полученных матриц:\n",
    "\n",
    "   а) $A$ — матрица $4\\times 2$, $B$ — матрица $4\\times 2$;  \n",
    "   В данном случае произведения матриц $AB$ и $BA$ не определены:  \n",
    "       - в случае $AB$ - количество столбцов матрицы $A=2$, а количество строк матрицы $B=4$  \n",
    "       - в случае $BA$ - количество столбцов матрицы $B=2$, а количество строк матрицы $A=4$  \n",
    "     \n",
    "   б) $A$ — матрица $2\\times 5$, $B$ — матрица $5\\times 3$;  \n",
    "   Определено только произведение матриц $AB$. Размерность полученной матрицы будет равна $2 \\times 3$\n",
    "    \n",
    "   в) $A$ — матрица $8\\times 3$, $B$ — матрица $3\\times 8$;  \n",
    "   Определены оба произведения $AB$ и $BA$. Размерности полученных матриц будут равны $AB: 8 \\times 8$ и $BA: 3 \\times 3$, т.е крадратные матрицы 8 и 3 порядков соответственно.  \n",
    "    \n",
    "   г) $A$ — квадратная матрица $4\\times 4$, $B$ — квадратная матрица $4\\times 4$.  \n",
    "   Определены оба произведения $AB$ и $BA$. Получится 2 квадратные матрицы 4 порядка."
   ]
  },
  {
   "cell_type": "code",
   "execution_count": null,
   "metadata": {},
   "outputs": [],
   "source": []
  }
 ],
 "metadata": {
  "kernelspec": {
   "display_name": "Python 3",
   "language": "python",
   "name": "python3"
  },
  "language_info": {
   "codemirror_mode": {
    "name": "ipython",
    "version": 3
   },
   "file_extension": ".py",
   "mimetype": "text/x-python",
   "name": "python",
   "nbconvert_exporter": "python",
   "pygments_lexer": "ipython3",
   "version": "3.8.5"
  }
 },
 "nbformat": 4,
 "nbformat_minor": 4
}
