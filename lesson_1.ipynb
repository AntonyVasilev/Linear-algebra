{
 "cells": [
  {
   "cell_type": "markdown",
   "metadata": {},
   "source": [
    "### Практическое задание к уроку 1\n",
    "#### Методичка 1"
   ]
  },
  {
   "cell_type": "markdown",
   "metadata": {},
   "source": [
    "__1.__ Исследовать на линейную зависимость:\n",
    "\n",
    "$$f_{1}(x)=e^{x}, f_{2}(x)=1, f_{3}(x)=x+1, f_{4}(x)=x-e^{x}.$$\n",
    "Заметил, что $f_{3}(x)=x+f_{2}(x) \\Rightarrow x=f_{2}(x)-f_{3}(x)$.  \n",
    "Следовательно $f_{4}(x)=f_{2}(x)-f_{3}(x)-f_{1}(x)$. Т.е. вектор $f_{4}(x)$ - линейная комбинация векторов $f_{1}(x)$, $f_{2}(x)$ и $f_{3}(x)$. Из этого могу сделать вывод, что $f_{1}(x)=e^{x}, f_{2}(x)=1, f_{3}(x)=x+1, f_{4}(x)=x-e^{x}$ линейно зависимы."
   ]
  },
  {
   "cell_type": "markdown",
   "metadata": {},
   "source": [
    "__2.__ Исследовать на линейную зависимость:\n",
    "$$f_{1}(x)=2, f_{2}(x)=x, f_{3}(x)=x^{2}, f_{4}(x)=(x+1)^{2}$$\n",
    "Т.к. $f_{4}(x)=(x+1)^{2}=x^2+2x+1$, то $f_{4}(x)=f_{3}(x)+2f_{2}(x)+\\frac{1}{2} f_{1}(x)$. Следовательно данные векторы линейно зависимы."
   ]
  },
  {
   "cell_type": "markdown",
   "metadata": {},
   "source": [
    "__3.__ Найти координаты вектора $x = (2, 3, 5)\\in \\mathbb{R}^{3}$ в базисе $b_{1}=(0, 0, 10)$, $b_{2}=(2, 0, 0)$, $b_{3}=(0, 1, 0)$.  \n",
    "$$x=(2,3,5)=(2,0,0)+(0,3,0)+(0,0,5)=1\\cdot(2,0,0) + 3\\cdot(0,1,0) + \\frac{1}{2}\\cdot(0,0,10)=b_2+3b_3+\\frac{1}{2}b_1$$\n",
    "Координатами вектора $x$ в базисе $b_{1}=(0, 0, 10)$, $b_{2}=(2, 0, 0)$, $b_{3}=(0, 1, 0)$ являются $(\\frac{1}{2},1,3)$."
   ]
  },
  {
   "cell_type": "code",
   "execution_count": null,
   "metadata": {},
   "outputs": [],
   "source": []
  },
  {
   "cell_type": "code",
   "execution_count": null,
   "metadata": {},
   "outputs": [],
   "source": []
  }
 ],
 "metadata": {
  "kernelspec": {
   "display_name": "Python 3",
   "language": "python",
   "name": "python3"
  },
  "language_info": {
   "codemirror_mode": {
    "name": "ipython",
    "version": 3
   },
   "file_extension": ".py",
   "mimetype": "text/x-python",
   "name": "python",
   "nbconvert_exporter": "python",
   "pygments_lexer": "ipython3",
   "version": "3.8.5"
  }
 },
 "nbformat": 4,
 "nbformat_minor": 4
}
