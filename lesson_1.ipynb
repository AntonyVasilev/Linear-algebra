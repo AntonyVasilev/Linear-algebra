{
 "cells": [
  {
   "cell_type": "markdown",
   "metadata": {},
   "source": [
    "### Практическое задание к уроку 1\n",
    "#### Методичка 1"
   ]
  },
  {
   "cell_type": "markdown",
   "metadata": {},
   "source": [
    "__1.__ Исследовать на линейную зависимость:\n",
    "\n",
    "$$f_{1}(x)=e^{x}, f_{2}(x)=1, f_{3}(x)=x+1, f_{4}(x)=x-e^{x}.$$\n",
    "Заметил, что $f_{3}(x)=x+f_{2}(x) \\Rightarrow x=f_{2}(x)-f_{3}(x)$.  \n",
    "Следовательно $f_{4}(x)=f_{2}(x)-f_{3}(x)-f_{1}(x)$. Т.е. вектор $f_{4}(x)$ - линейная комбинация векторов $f_{1}(x)$, $f_{2}(x)$ и $f_{3}(x)$. Из этого могу сделать вывод, что $f_{1}(x)=e^{x}, f_{2}(x)=1, f_{3}(x)=x+1, f_{4}(x)=x-e^{x}$ линейно зависимы."
   ]
  },
  {
   "cell_type": "markdown",
   "metadata": {},
   "source": [
    "__2.__ Исследовать на линейную зависимость:\n",
    "$$f_{1}(x)=2, f_{2}(x)=x, f_{3}(x)=x^{2}, f_{4}(x)=(x+1)^{2}$$\n",
    "Т.к. $f_{4}(x)=(x+1)^{2}=x^2+2x+1$, то $f_{4}(x)=f_{3}(x)+2f_{2}(x)+\\frac{1}{2} f_{1}(x)$. Следовательно данные векторы линейно зависимы."
   ]
  },
  {
   "cell_type": "markdown",
   "metadata": {},
   "source": [
    "__3.__ Найти координаты вектора $x = (2, 3, 5)\\in \\mathbb{R}^{3}$ в базисе $b_{1}=(0, 0, 10)$, $b_{2}=(2, 0, 0)$, $b_{3}=(0, 1, 0)$.  \n",
    "$$x=(2,3,5)=(2,0,0)+(0,3,0)+(0,0,5)=1\\cdot(2,0,0) + 3\\cdot(0,1,0) + \\frac{1}{2}\\cdot(0,0,10)=b_2+3b_3+\\frac{1}{2}b_1$$\n",
    "Координатами вектора $x$ в базисе $b_{1}=(0, 0, 10)$, $b_{2}=(2, 0, 0)$, $b_{3}=(0, 1, 0)$ являются $(\\frac{1}{2},1,3)$."
   ]
  },
  {
   "cell_type": "markdown",
   "metadata": {},
   "source": [
    "__4.__ Найти координаты вектора $3x^{2}-2x+2\\in\\mathbb{R}^{3}[x]$:\n",
    "\n",
    "а) в базисе $1$, $x$, $x^{2}$;  \n",
    "Координаты $(2,-2,3)$\n",
    "\n",
    "б) в базисе $x^{2}$, $x-1$, $1$.  \n",
    "$3x^2-2x+2=3x^2-2(x-1) \\rightarrow$ координаты $(3,-2,0)$"
   ]
  },
  {
   "cell_type": "markdown",
   "metadata": {},
   "source": [
    "__5.__ Установить, является ли линейным подпространством:\n",
    "\n",
    "а) совокупность всех векторов трехмерного пространства, у которых по крайней мере одна из первых двух координат равна нулю;  \n",
    "Из условия задачи следует, что необходимо проверить множества векторов следующего вида: $(0,a,b)$, $(a,0,b)$ и $(0,0,a)$.  \n",
    "$(0,a_1,b_1)+(0,a_2,b_2)=(0,a_1+a_2,b_1+b_2),\\,\\,\\, \\alpha \\cdot(0,a,b)=(0,\\alpha\\cdot a,\\alpha\\cdot b) \\rightarrow$ полученные векторы принадлежат множеству векторов $(0,a,b)$  \n",
    "$(a_1,0,b_1)+(a_2,0,b_2)=(a_1+a_2,0,b_1+b_2),\\,\\,\\, \\alpha \\cdot(a,0,b)=(\\alpha\\cdot a,0,\\alpha\\cdot b) \\rightarrow$ полученные векторы принадлежат множеству векторов $(a,0,b)$  \n",
    "$(0,0,a_1)+(0,0,a_2)=(0,0,a_1+a_2),\\,\\,\\, \\alpha \\cdot(0,0,a)=(0,0,\\alpha\\cdot a) \\rightarrow$ полученные векторы принадлежат множеству векторов $(0,0,a)$  \n",
    "Т.к. для всех трех множеств векторов выполняются условия $\\ u+v\\in L$ и $\\alpha\\cdot u \\in L$, то совокупность всех векторов трехмерного пространства, у которых по крайней мере одна из первых двух координат равна нулю, является линейным подпространством.  \n",
    "    \n",
    "б) все векторы, являющиеся линейными комбинациями данных векторов $\\{u_{1}, u_{2}, \\ldots, u_{n}\\}$.  \n",
    "$(a_1 u_1+a_2 u_2+\\ldots+a_n u_n)+(b_1 u_1+b_2 u_2+\\ldots+b_n u_n)=(a_1+b_1)\\,u_1+(a_2+b_2)\\,u_2+\\ldots+(a_n+b_n)\\,u_n$  \n",
    "$\\alpha\\,(a_1 u_1+a_2 u_2+\\ldots+a_n u_n)=\\alpha a_1 u_1+\\alpha a_2 u_2+\\ldots+\\alpha a_n u_n$  \n",
    "По получившимся многочленам видно, что для линейных комбинаций векторов $\\{u_{1}, u_{2}, \\ldots, u_{n}\\}$ выполняются условия $\\ u+v\\in L$ и $\\alpha\\cdot u \\in L$. Следовательно они являются подпространством."
   ]
  },
  {
   "cell_type": "markdown",
   "metadata": {},
   "source": [
    "#### Методичка 2"
   ]
  },
  {
   "cell_type": "code",
   "execution_count": 1,
   "metadata": {},
   "outputs": [],
   "source": [
    "import numpy as np"
   ]
  },
  {
   "cell_type": "markdown",
   "metadata": {},
   "source": [
    "__1.__ Найти скалярное произведение векторов $x, y \\in \\mathbb{R}$:<br>\n",
    "а) $x=(0,-3, 6),~y=(-4, 7, 9);$  \n",
    "$(x,y)=0\\cdot(-4)+(-3)\\cdot 7+6\\cdot 9=0-21+54=33$  \n",
    "б) $x=(7, -4, 0, 1),~y=(-3, 1, 11, 2).$  \n",
    "$(x,y)=7\\cdot(-3)+(-4)\\cdot 1+0\\cdot 11+1\\cdot 2=-21-4+0+2=-23$"
   ]
  },
  {
   "cell_type": "code",
   "execution_count": 2,
   "metadata": {},
   "outputs": [
    {
     "data": {
      "text/plain": [
       "33"
      ]
     },
     "execution_count": 2,
     "metadata": {},
     "output_type": "execute_result"
    }
   ],
   "source": [
    "x1 = np.array([0, -3, 6])\n",
    "y1 = np.array([-4, 7, 9])\n",
    "np.dot(x1, y1)"
   ]
  },
  {
   "cell_type": "code",
   "execution_count": 3,
   "metadata": {},
   "outputs": [
    {
     "data": {
      "text/plain": [
       "-23"
      ]
     },
     "execution_count": 3,
     "metadata": {},
     "output_type": "execute_result"
    }
   ],
   "source": [
    "x2 = np.array([7, -4, 0, 1])\n",
    "y2 = np.array([-3, 1, 11, 2])\n",
    "np.dot(x2, y2)"
   ]
  },
  {
   "cell_type": "markdown",
   "metadata": {},
   "source": [
    "__2.__ Найти нормы векторов $(4, 2, 4)$ и $(12, 3, 4)$ и угол между ними.  \n",
    "Нахожу манхэттенскую норму векторов:  \n",
    "$||x||_1=\\sum_i |x_i|=4+2+4=10$  \n",
    "$||y||_1=\\sum_i |y_i|=12+3+4=19$  \n",
    "Нахожу евклидову норму векторов:  \n",
    "$||x||_2=\\sqrt{\\sum_i |x|^2}=\\sqrt{4^2+2^2+4^2}=\\sqrt{36}=6$   \n",
    "$||y||_2=\\sqrt{\\sum_i |y|^2}=\\sqrt{12^2+3^2+4^2}=\\sqrt{169}=13$  \n",
    "Нахожу угол между векторами:  \n",
    "### $cos\\varphi=\\frac{4\\cdot 12+2\\cdot 3+4\\cdot 4}{\\sqrt{4^2+2^2+4^2}\\sqrt{12^2+3^2+4^2}}=\\frac{70}{78}\\approx 0.897$\n",
    "$\\varphi=\\mbox{arccos}(0.897) \\approx 0.46$"
   ]
  },
  {
   "cell_type": "code",
   "execution_count": 4,
   "metadata": {},
   "outputs": [],
   "source": [
    "from numpy.linalg import norm"
   ]
  },
  {
   "cell_type": "code",
   "execution_count": 5,
   "metadata": {},
   "outputs": [],
   "source": [
    "a = np.array([4, 2, 4])\n",
    "b = np.array([12, 3, 4])"
   ]
  },
  {
   "cell_type": "code",
   "execution_count": 6,
   "metadata": {},
   "outputs": [
    {
     "name": "stdout",
     "output_type": "stream",
     "text": [
      "l1 Манхетовская норма вектора a:\t10.0\n",
      "l1 Манхетовская норма вектора b:\t19.0\n"
     ]
    }
   ],
   "source": [
    "# нахожу манхэттенскую норму\n",
    "print(f'l1 Манхетовская норма вектора a:\\t{norm(a, ord=1)}')\n",
    "print(f'l1 Манхетовская норма вектора b:\\t{norm(b, ord=1)}')"
   ]
  },
  {
   "cell_type": "code",
   "execution_count": 7,
   "metadata": {},
   "outputs": [
    {
     "name": "stdout",
     "output_type": "stream",
     "text": [
      "l1 Евклидова норма вектора a:\t6.0\n",
      "l1 Евклидова норма вектора b:\t13.0\n"
     ]
    }
   ],
   "source": [
    "# нахожу евклидову норму\n",
    "print(f'l1 Евклидова норма вектора a:\\t{norm(a)}')\n",
    "print(f'l1 Евклидова норма вектора b:\\t{norm(b)}')"
   ]
  },
  {
   "cell_type": "code",
   "execution_count": 8,
   "metadata": {},
   "outputs": [
    {
     "name": "stdout",
     "output_type": "stream",
     "text": [
      "Косинус угла между векторами a и b: 0.897\n",
      "Угол между векторами a и b: 0.46\n"
     ]
    }
   ],
   "source": [
    "# нахожу угол между векторами\n",
    "cos_phi = np.dot(a, b) / (norm(a) * norm(b))\n",
    "print(f'Косинус угла между векторами a и b: {cos_phi:.3f}')\n",
    "print(f'Угол между векторами a и b: {np.arccos(cos_phi):.2f}')"
   ]
  },
  {
   "cell_type": "code",
   "execution_count": 9,
   "metadata": {},
   "outputs": [
    {
     "data": {
      "text/plain": [
       "0.4578611175011189"
      ]
     },
     "execution_count": 9,
     "metadata": {},
     "output_type": "execute_result"
    }
   ],
   "source": [
    "np.arccos(0.897)"
   ]
  },
  {
   "cell_type": "code",
   "execution_count": 10,
   "metadata": {},
   "outputs": [
    {
     "data": {
      "text/plain": [
       "0.4560374173398765"
      ]
     },
     "execution_count": 10,
     "metadata": {},
     "output_type": "execute_result"
    }
   ],
   "source": [
    "np.cos(26.23)"
   ]
  },
  {
   "cell_type": "markdown",
   "metadata": {},
   "source": [
    "__4.__ Какие из нижеперечисленных векторов образуют ортонормированный базис в линейном пространстве $\\mathbb{R}^{3}$:<br>\n",
    "а) $(1,0,0),(0,0,1);$ - в линейном пространстве $\\mathbb{R}^{3}$ должно быть три вектора. Следовательно данные два вектора не могут образовать ортонормированный базис.  \n",
    "б) $(1/\\sqrt{2},-1/\\sqrt{2},0),(1/\\sqrt{2},1/\\sqrt{2},0), (0,0,1);$  \n",
    "Даные векторы образуют ортонормированный базис в линейном пространстве $\\mathbb{R}^{3}$ т.к. $(e_{i}, e_{j})=0$ $\\forall$ $i\\neq j$ и $(e_{i},e_{i})=1$ $\\forall$ $i\\in[1, n].$.<br>\n",
    "в) $(1/2, -1/2, 0), (0, 1/2, 1/2), (0,0,1);$<br>\n",
    "Даные векторы не образуют ортонормированный базис в линейном пространстве $\\mathbb{R}^{3}$ т.к. $(e_{i}, e_{j})\\neq 0$ $\\forall$ $i\\neq j$ и $(e_{i},e_{i})\\neq 1$ $\\forall$ $i\\in[1, n].$.<br>\n",
    "г) $(1,0,0),(0,1,0),(0,0,1)$ - стандартный базис всегда является ортонормированным"
   ]
  },
  {
   "cell_type": "code",
   "execution_count": 19,
   "metadata": {},
   "outputs": [],
   "source": [
    "# Векторы из пункта б)\n",
    "e1 = np.array([1/np.sqrt(2), -1/np.sqrt(2), 0])\n",
    "e2 = np.array([1/np.sqrt(2), 1/np.sqrt(2), 0])\n",
    "e3 = np.array([0, 0, 1])"
   ]
  },
  {
   "cell_type": "code",
   "execution_count": 20,
   "metadata": {},
   "outputs": [
    {
     "name": "stdout",
     "output_type": "stream",
     "text": [
      "Попарные скалярные произведения векторов:\n",
      "e1, e2: 0.00,\n",
      "e2, e3: 0.00,\n",
      "e1, e3: 0.00\n",
      "Попарные скалярные произведения векторов:\n",
      "e1, e1: 1.00,\n",
      "e2, e2: 1.00,\n",
      "e3, e3: 1.00\n"
     ]
    }
   ],
   "source": [
    "print(f'Попарные скалярные произведения векторов:\\ne1, e2: {np.dot(e1, e2):.2f},\\ne2, e3: {np.dot(e2, e3):.2f},\\ne1, e3: {np.dot(e1, e3):.2f}')\n",
    "print(f'Попарные скалярные произведения векторов:\\ne1, e1: {np.dot(e1, e1):.2f},\\ne2, e2: {np.dot(e2, e2):.2f},\\ne3, e3: {np.dot(e3, e3):.2f}')"
   ]
  },
  {
   "cell_type": "code",
   "execution_count": 21,
   "metadata": {},
   "outputs": [],
   "source": [
    "# Векторы из пункта в)\n",
    "e_1 = np.array([1/2, -1/2, 0])\n",
    "e_2 = np.array([0, 1/2, 1/2])\n",
    "e_3 = np.array([0, 0, 1])"
   ]
  },
  {
   "cell_type": "code",
   "execution_count": 22,
   "metadata": {},
   "outputs": [
    {
     "name": "stdout",
     "output_type": "stream",
     "text": [
      "Попарные скалярные произведения векторов:\n",
      "e1, e2: -0.25,\n",
      "e2, e3: 0.50,\n",
      "e1, e3: 0.00\n",
      "Попарные скалярные произведения векторов:\n",
      "e1, e1: 0.50,\n",
      "e2, e2: 0.50,\n",
      "e3, e3: 1.00\n"
     ]
    }
   ],
   "source": [
    "print(f'Попарные скалярные произведения векторов:\\ne1, e2: {np.dot(e_1, e_2):.2f},\\ne2, e3: {np.dot(e_2, e_3):.2f},\\ne1, e3: {np.dot(e_1, e_3):.2f}')\n",
    "print(f'Попарные скалярные произведения векторов:\\ne1, e1: {np.dot(e_1, e_1):.2f},\\ne2, e2: {np.dot(e_2, e_2):.2f},\\ne3, e3: {np.dot(e_3, e_3):.2f}')"
   ]
  },
  {
   "cell_type": "code",
   "execution_count": null,
   "metadata": {},
   "outputs": [],
   "source": []
  },
  {
   "cell_type": "markdown",
   "metadata": {},
   "source": [
    "__3.__ Будет ли линейное пространство евклидовым, если за скалярное произведение принять:<br>\n",
    "Возьму три вектора $(u_1,u_2,\\ldots,u_n)$, $(v_1,v_2,\\ldots,v_n)$ и $(w_1,w_2,\\ldots,w_n)$. Проверю верность аксиом для данных векторов:  \n",
    "а) произведение длин векторов;<br>  \n",
    "* $(u,v)=(v,u)$  \n",
    "$$(u,v)=|\\overline u| \\cdot |\\overline v|=\\sqrt{u_1,u_2,\\ldots,u_n} \\sqrt{v_1,v_2,\\ldots,v_n}$$\n",
    "$$(v,u)=|\\overline v| \\cdot |\\overline u|=\\sqrt{v_1,v_2,\\ldots,v_n} \\sqrt{u_1,u_2,\\ldots,u_n}$$\n",
    "Произведения равны, следовательно данная аксиома __выполняется__.  \n",
    "* $(\\lambda u,v)=\\lambda(u, v)$  \n",
    "$$(\\lambda u,v)=\\lambda|\\overline u| \\cdot |\\overline v|=\\lambda \\sqrt{u_1,u_2,\\ldots,u_n} \\sqrt{v_1,v_2,\\ldots,v_n}$$\n",
    "$$\\lambda(u, v)=\\lambda(|\\overline u| \\cdot |\\overline v|)=\\lambda \\sqrt{u_1,u_2,\\ldots,u_n} \\sqrt{v_1,v_2,\\ldots,v_n}$$\n",
    "Произведения равны, следовательно данная аксиома также __выполняется__.  \n",
    "* $(u+w,v)=(u,v)+(w,v)$\n",
    "$$$$\n",
    "\n",
    "б) утроенное обычное скалярное произведение векторов?<br>"
   ]
  },
  {
   "cell_type": "code",
   "execution_count": null,
   "metadata": {},
   "outputs": [],
   "source": []
  }
 ],
 "metadata": {
  "kernelspec": {
   "display_name": "Python 3",
   "language": "python",
   "name": "python3"
  },
  "language_info": {
   "codemirror_mode": {
    "name": "ipython",
    "version": 3
   },
   "file_extension": ".py",
   "mimetype": "text/x-python",
   "name": "python",
   "nbconvert_exporter": "python",
   "pygments_lexer": "ipython3",
   "version": "3.8.5"
  }
 },
 "nbformat": 4,
 "nbformat_minor": 4
}
